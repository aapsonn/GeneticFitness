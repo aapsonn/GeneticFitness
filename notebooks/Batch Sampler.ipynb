{
 "cells": [
  {
   "cell_type": "code",
   "execution_count": 1,
   "metadata": {},
   "outputs": [],
   "source": [
    "from src.modeling.cnn_vae import CNN_VAE\n",
    "from src.data.df_dataset import DfDataset\n",
    "\n",
    "import torch.nn.functional as F\n",
    "\n",
    "from torch.optim import Adam\n",
    "from torch.utils.data import DataLoader, Dataset\n",
    "import pandas as pd\n",
    "\n",
    "import matplotlib.pyplot as plt\n",
    "import seaborn as sns\n",
    "\n",
    "from scipy import stats"
   ]
  },
  {
   "cell_type": "code",
   "execution_count": 2,
   "metadata": {},
   "outputs": [],
   "source": [
    "df = pd.read_csv(\"/Users/tobiaochsner/Documents/ETH/GeneticFitness/data/output_history/cnn_vae_best_2023_11_05_18_52_38/preprocessed.csv\")\n",
    "dataset = DfDataset(df, [\"rna_loops\", \"sequence_dna\"])"
   ]
  },
  {
   "cell_type": "code",
   "execution_count": 18,
   "metadata": {},
   "outputs": [],
   "source": [
    "from typing import Iterable, Sized\n",
    "from torch.utils.data import Sampler, Dataset\n",
    "from random import choice, choices\n",
    "from collections import defaultdict\n",
    "\n",
    "\n",
    "class GroupedBatchSampler(Sampler):\n",
    "    def __init__(self, data: Dataset, group_key: str, batch_size: int = 16):\n",
    "        if not isinstance(data, Iterable) or not isinstance(data, Sized):\n",
    "            raise ValueError(\"Dataset must be an Iterable and Sized.\")\n",
    "\n",
    "        self.data = data\n",
    "        self.batch_size = batch_size\n",
    "        self.length = len(self.data) // self.batch_size\n",
    "\n",
    "        self.grouped_indices = defaultdict(list)\n",
    "        for i, item in enumerate(self.data):\n",
    "            self.grouped_indices[item[0][group_key]].append(i)\n",
    "\n",
    "        self.keys = list(self.grouped_indices.keys())\n",
    "\n",
    "    def __len__(self):\n",
    "        return self.length\n",
    "\n",
    "    def __iter__(self):\n",
    "        batches_yielded = 0\n",
    "        while batches_yielded < self.length:\n",
    "            key = choice(self.keys)\n",
    "            group = self.grouped_indices[key]\n",
    "\n",
    "            batch = choices(group, k=self.batch_size)\n",
    "\n",
    "            batches_yielded += 1\n",
    "            yield batch\n"
   ]
  },
  {
   "cell_type": "code",
   "execution_count": 19,
   "metadata": {},
   "outputs": [],
   "source": [
    "sampler = GroupedBatchSampler(dataset, \"sequence_dna\")"
   ]
  },
  {
   "cell_type": "code",
   "execution_count": 20,
   "metadata": {},
   "outputs": [
    {
     "data": {
      "text/plain": [
       "1127"
      ]
     },
     "execution_count": 20,
     "metadata": {},
     "output_type": "execute_result"
    }
   ],
   "source": [
    "len(a)"
   ]
  },
  {
   "cell_type": "code",
   "execution_count": 34,
   "metadata": {},
   "outputs": [
    {
     "data": {
      "text/plain": [
       "'TGCGACGTG'"
      ]
     },
     "execution_count": 34,
     "metadata": {},
     "output_type": "execute_result"
    }
   ],
   "source": [
    "dataset[batch[0]][0][\"sequence_dna\"]"
   ]
  },
  {
   "cell_type": "code",
   "execution_count": 37,
   "metadata": {},
   "outputs": [],
   "source": [
    "for batch in sampler:\n",
    "    aminio_acids = {dataset[i][0][\"sequence_dna\"] for i in batch}\n",
    "    assert len(aminio_acids) == 1, \"Batch contains different aminio acids\"\n",
    "    assert len(batch) == 16"
   ]
  },
  {
   "cell_type": "code",
   "execution_count": 14,
   "metadata": {},
   "outputs": [
    {
     "name": "stdout",
     "output_type": "stream",
     "text": [
      "[9078, 9078, 9078, 9078, 9078, 9078, 9078, 9078, 9078, 9078, 9078, 9078, 9078, 9078, 9078, 9078]\n",
      "[9078, 9078, 9078, 9078, 9078, 9078, 9078, 9078, 9078, 9078, 9078, 9078, 9078, 9078, 9078, 9078]\n"
     ]
    }
   ],
   "source": [
    "for i in a:\n",
    "    print(i)\n",
    "    break"
   ]
  },
  {
   "cell_type": "code",
   "execution_count": 15,
   "metadata": {},
   "outputs": [
    {
     "data": {
      "text/plain": [
       "18039"
      ]
     },
     "execution_count": 15,
     "metadata": {},
     "output_type": "execute_result"
    }
   ],
   "source": [
    "a.length"
   ]
  },
  {
   "cell_type": "code",
   "execution_count": null,
   "metadata": {},
   "outputs": [],
   "source": []
  }
 ],
 "metadata": {
  "kernelspec": {
   "display_name": ".venv",
   "language": "python",
   "name": "python3"
  },
  "language_info": {
   "codemirror_mode": {
    "name": "ipython",
    "version": 3
   },
   "file_extension": ".py",
   "mimetype": "text/x-python",
   "name": "python",
   "nbconvert_exporter": "python",
   "pygments_lexer": "ipython3",
   "version": "3.11.5"
  }
 },
 "nbformat": 4,
 "nbformat_minor": 2
}
