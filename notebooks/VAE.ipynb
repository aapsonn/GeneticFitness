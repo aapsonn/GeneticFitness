{
 "cells": [
  {
   "cell_type": "code",
   "execution_count": 1,
   "id": "5bb34116-70f9-4bbd-87bd-f998c5462fcb",
   "metadata": {},
   "outputs": [],
   "source": [
    "import torch\n",
    "from torch.utils.data import DataLoader\n",
    "from torch import nn, IntTensor, Tensor"
   ]
  },
  {
   "cell_type": "code",
   "execution_count": 2,
   "id": "fac18a5a-d6dd-45ed-af9d-87c41e779d17",
   "metadata": {},
   "outputs": [],
   "source": [
    "import pandas as pd"
   ]
  },
  {
   "cell_type": "code",
   "execution_count": 3,
   "id": "30e09420-11f7-4523-9032-0a55fa4b6f70",
   "metadata": {},
   "outputs": [],
   "source": [
    "from src.data.df_dataset import DfDataset"
   ]
  },
  {
   "cell_type": "code",
   "execution_count": 4,
   "id": "134c7d9a-5314-499c-ab53-9e355ec1cc26",
   "metadata": {},
   "outputs": [],
   "source": [
    "df = pd.read_csv(\"../data/output/with_factors.csv\")"
   ]
  },
  {
   "cell_type": "code",
   "execution_count": 5,
   "id": "62cd5068-19ef-43c5-86c8-b0ba2ed94e0e",
   "metadata": {},
   "outputs": [],
   "source": [
    "dataset = DfDataset(df, [\"rna_loops\"])"
   ]
  },
  {
   "cell_type": "code",
   "execution_count": 6,
   "id": "27bb7d94-dc8c-46ff-bbf5-f58f2e2cadff",
   "metadata": {},
   "outputs": [
    {
     "ename": "SyntaxError",
     "evalue": "invalid syntax (3828123715.py, line 4)",
     "output_type": "error",
     "traceback": [
      "\u001b[0;36m  Cell \u001b[0;32mIn[6], line 4\u001b[0;36m\u001b[0m\n\u001b[0;31m    )\u001b[0m\n\u001b[0m    ^\u001b[0m\n\u001b[0;31mSyntaxError\u001b[0m\u001b[0;31m:\u001b[0m invalid syntax\n"
     ]
    }
   ],
   "source": [
    "loop_sequence = df[\"rna_loops\"]\n",
    "loop_sequence = df[\"rna_loops\"].apply(\n",
    "    lambda x: \n",
    ")"
   ]
  },
  {
   "cell_type": "code",
   "execution_count": 7,
   "id": "dbce97d8-4666-47b8-9565-e51b5ce18875",
   "metadata": {},
   "outputs": [],
   "source": [
    "loader = DataLoader(dataset, batch_size=128)"
   ]
  },
  {
   "cell_type": "code",
   "execution_count": 8,
   "id": "bf0248a0-a894-49c6-b8be-7685c22aecf4",
   "metadata": {},
   "outputs": [],
   "source": [
    "x, y = list(loader)[0]"
   ]
  },
  {
   "cell_type": "code",
   "execution_count": 9,
   "id": "2bc69bef-25fe-4240-a382-d4f676047e54",
   "metadata": {},
   "outputs": [],
   "source": [
    "loops = x[\"rna_loops\"]"
   ]
  },
  {
   "cell_type": "code",
   "execution_count": 15,
   "id": "4c149d7a-bd13-4369-9b10-b43e9ba7569f",
   "metadata": {},
   "outputs": [],
   "source": [
    "mapping = {\n",
    "    \"(\": 0,\n",
    "    \".\": 1,\n",
    "    \")\": 2\n",
    "}\n",
    "\n",
    "encoded_loops = [\n",
    "    list(map(mapping.get, loop))\n",
    "    for loop in loops\n",
    "]\n",
    "encoded_loops = IntTensor(encoded_loops)"
   ]
  },
  {
   "cell_type": "code",
   "execution_count": 116,
   "id": "d4cef852-f22a-4bb7-8797-f84514882230",
   "metadata": {},
   "outputs": [],
   "source": [
    "num_conv_layers = 2\n",
    "embedding_size = 4\n",
    "num_conv_filters = 3\n",
    "filter_size = 3\n",
    "input_size = 117\n",
    "latent_size = 8\n",
    "\n",
    "embedding = nn.Embedding(3, embedding_size)\n",
    "\n",
    "encoder_layers = []\n",
    "\n",
    "for i in range(num_conv_layers):\n",
    "    if i == 0:\n",
    "        layer_input_size = embedding_size\n",
    "    else:\n",
    "        layer_input_size = num_conv_filters\n",
    "\n",
    "    encoder_layers += [\n",
    "        nn.Conv1d(layer_input_size, num_conv_filters, filter_size),\n",
    "        nn.ReLU(),\n",
    "    ]\n",
    "\n",
    "encoder_layers += [\n",
    "    nn.Flatten(),\n",
    "    nn.Linear(\n",
    "        num_conv_filters * (input_size - num_conv_layers * (filter_size - 1)),\n",
    "        latent_size,\n",
    "    ),\n",
    "    nn.ReLU(),\n",
    "]\n",
    "\n",
    "encoder = nn.Sequential(*encoder_layers)\n",
    "\n",
    "mu = nn.Linear(latent_size, latent_size)\n",
    "var = nn.Linear(latent_size, latent_size)"
   ]
  },
  {
   "cell_type": "code",
   "execution_count": 117,
   "id": "53694978",
   "metadata": {},
   "outputs": [],
   "source": [
    "def reparameterize(mu: Tensor, logvar: Tensor) -> Tensor:\n",
    "    \"\"\"\n",
    "    Reparameterization trick to sample from N(mu, var) from\n",
    "    N(0,1).\n",
    "    \"\"\"\n",
    "    std = torch.exp(0.5 * logvar)\n",
    "    eps = torch.randn_like(std)\n",
    "    return eps * std + mu"
   ]
  },
  {
   "cell_type": "code",
   "execution_count": 118,
   "id": "c9e094e5",
   "metadata": {},
   "outputs": [],
   "source": [
    "decoder_layers = []\n",
    "\n",
    "decoder_layers += [\n",
    "    nn.Linear(\n",
    "        latent_size,\n",
    "        num_conv_filters * (input_size - num_conv_layers * (filter_size - 1)),\n",
    "    ),\n",
    "    nn.ReLU(),\n",
    "    nn.Unflatten(1, (num_conv_filters, input_size - num_conv_layers * (filter_size - 1))),\n",
    "]\n",
    "\n",
    "for _ in range(num_conv_layers-1):\n",
    "    decoder_layers += [\n",
    "        nn.ConvTranspose1d(num_conv_filters, num_conv_filters, filter_size),\n",
    "        nn.ReLU(),\n",
    "    ]\n",
    "\n",
    "decoder_layers += [\n",
    "    nn.ConvTranspose1d(num_conv_filters, embedding_size, filter_size),\n",
    "]\n",
    "\n",
    "\n",
    "decoder = nn.Sequential(*decoder_layers)"
   ]
  },
  {
   "cell_type": "code",
   "execution_count": 119,
   "id": "80721fd8",
   "metadata": {},
   "outputs": [],
   "source": [
    "x = embedding(encoded_loops)  # (batch_size, seq_len, embedding_dim)\n",
    "x = x.permute(0, 2, 1)  # (batch_size, embedding_dim, seq_len)"
   ]
  },
  {
   "cell_type": "code",
   "execution_count": 120,
   "id": "d9a6f1f9",
   "metadata": {},
   "outputs": [],
   "source": [
    "encoding = encoder(x)\n",
    "mu = mu(encoding)\n",
    "var = var(encoding)"
   ]
  },
  {
   "cell_type": "code",
   "execution_count": 121,
   "id": "c9fcabfb",
   "metadata": {},
   "outputs": [
    {
     "data": {
      "text/plain": [
       "Sequential(\n",
       "  (0): Linear(in_features=8, out_features=339, bias=True)\n",
       "  (1): ReLU()\n",
       "  (2): Unflatten(dim=1, unflattened_size=(3, 113))\n",
       "  (3): ConvTranspose1d(3, 3, kernel_size=(3,), stride=(1,))\n",
       "  (4): ReLU()\n",
       "  (5): ConvTranspose1d(3, 4, kernel_size=(3,), stride=(1,))\n",
       ")"
      ]
     },
     "execution_count": 121,
     "metadata": {},
     "output_type": "execute_result"
    }
   ],
   "source": [
    "decoder"
   ]
  },
  {
   "cell_type": "code",
   "execution_count": 125,
   "id": "7fd2a9a7-0c02-4211-92ce-2464d9dd9c71",
   "metadata": {},
   "outputs": [],
   "source": [
    "z = reparameterize(mu, var)\n",
    "z = decoder(z)"
   ]
  },
  {
   "cell_type": "code",
   "execution_count": 129,
   "id": "a757909b",
   "metadata": {},
   "outputs": [
    {
     "data": {
      "text/plain": [
       "(torch.Size([128, 4, 117]), torch.Size([128, 117, 4]))"
      ]
     },
     "execution_count": 129,
     "metadata": {},
     "output_type": "execute_result"
    }
   ],
   "source": [
    "z.shape, embedding(encoded_loops).shape"
   ]
  },
  {
   "cell_type": "code",
   "execution_count": 128,
   "id": "65389e04-9748-4ec2-a901-0db8a22f25f0",
   "metadata": {},
   "outputs": [
    {
     "ename": "AttributeError",
     "evalue": "'Embedding' object has no attribute 'shape'",
     "output_type": "error",
     "traceback": [
      "\u001b[0;31m---------------------------------------------------------------------------\u001b[0m",
      "\u001b[0;31mAttributeError\u001b[0m                            Traceback (most recent call last)",
      "\u001b[1;32m/Users/tobiaochsner/Documents/ETH/GeneticFitness/notebooks/VAE.ipynb Cell 19\u001b[0m line \u001b[0;36m1\n\u001b[0;32m----> <a href='vscode-notebook-cell:/Users/tobiaochsner/Documents/ETH/GeneticFitness/notebooks/VAE.ipynb#X21sZmlsZQ%3D%3D?line=0'>1</a>\u001b[0m embedding\u001b[39m.\u001b[39;49mshape\n",
      "File \u001b[0;32m~/Documents/ETH/GeneticFitness/.venv/lib/python3.11/site-packages/torch/nn/modules/module.py:1614\u001b[0m, in \u001b[0;36mModule.__getattr__\u001b[0;34m(self, name)\u001b[0m\n\u001b[1;32m   1612\u001b[0m     \u001b[39mif\u001b[39;00m name \u001b[39min\u001b[39;00m modules:\n\u001b[1;32m   1613\u001b[0m         \u001b[39mreturn\u001b[39;00m modules[name]\n\u001b[0;32m-> 1614\u001b[0m \u001b[39mraise\u001b[39;00m \u001b[39mAttributeError\u001b[39;00m(\u001b[39m\"\u001b[39m\u001b[39m'\u001b[39m\u001b[39m{}\u001b[39;00m\u001b[39m'\u001b[39m\u001b[39m object has no attribute \u001b[39m\u001b[39m'\u001b[39m\u001b[39m{}\u001b[39;00m\u001b[39m'\u001b[39m\u001b[39m\"\u001b[39m\u001b[39m.\u001b[39mformat(\n\u001b[1;32m   1615\u001b[0m     \u001b[39mtype\u001b[39m(\u001b[39mself\u001b[39m)\u001b[39m.\u001b[39m\u001b[39m__name__\u001b[39m, name))\n",
      "\u001b[0;31mAttributeError\u001b[0m: 'Embedding' object has no attribute 'shape'"
     ]
    }
   ],
   "source": [
    "embedding.shape"
   ]
  },
  {
   "cell_type": "code",
   "execution_count": 139,
   "id": "45f1fad2-bb63-4182-a720-53cf41c8cb05",
   "metadata": {},
   "outputs": [
    {
     "data": {
      "text/plain": [
       "torch.Size([128, 5, 115])"
      ]
     },
     "execution_count": 139,
     "metadata": {},
     "output_type": "execute_result"
    }
   ],
   "source": [
    "x.shape"
   ]
  },
  {
   "cell_type": "code",
   "execution_count": 140,
   "id": "cc01c78d-b8d1-4700-8fab-d36f760fbca1",
   "metadata": {},
   "outputs": [],
   "source": [
    "linear_layer = nn.Linear(\n",
    "    5*(117 - 1 * (3 - 1)), 1\n",
    ")"
   ]
  },
  {
   "cell_type": "code",
   "execution_count": 141,
   "id": "349b592e-5f05-4a8e-9aa6-d1c384175a2d",
   "metadata": {},
   "outputs": [],
   "source": [
    "x = x.flatten(start_dim=1)"
   ]
  },
  {
   "cell_type": "code",
   "execution_count": 142,
   "id": "258474c0-25a0-4b48-8345-5fd6327f89ae",
   "metadata": {},
   "outputs": [
    {
     "ename": "RuntimeError",
     "evalue": "Placeholder storage has not been allocated on MPS device!",
     "output_type": "error",
     "traceback": [
      "\u001b[0;31m---------------------------------------------------------------------------\u001b[0m",
      "\u001b[0;31mRuntimeError\u001b[0m                              Traceback (most recent call last)",
      "Cell \u001b[0;32mIn[142], line 1\u001b[0m\n\u001b[0;32m----> 1\u001b[0m \u001b[43mlinear_layer\u001b[49m\u001b[43m(\u001b[49m\u001b[43mx\u001b[49m\u001b[43m)\u001b[49m\u001b[38;5;241m.\u001b[39mshape\n",
      "File \u001b[0;32m~/Documents/ETH/GeneticFitness/.venv/lib/python3.11/site-packages/torch/nn/modules/module.py:1501\u001b[0m, in \u001b[0;36mModule._call_impl\u001b[0;34m(self, *args, **kwargs)\u001b[0m\n\u001b[1;32m   1496\u001b[0m \u001b[38;5;66;03m# If we don't have any hooks, we want to skip the rest of the logic in\u001b[39;00m\n\u001b[1;32m   1497\u001b[0m \u001b[38;5;66;03m# this function, and just call forward.\u001b[39;00m\n\u001b[1;32m   1498\u001b[0m \u001b[38;5;28;01mif\u001b[39;00m \u001b[38;5;129;01mnot\u001b[39;00m (\u001b[38;5;28mself\u001b[39m\u001b[38;5;241m.\u001b[39m_backward_hooks \u001b[38;5;129;01mor\u001b[39;00m \u001b[38;5;28mself\u001b[39m\u001b[38;5;241m.\u001b[39m_backward_pre_hooks \u001b[38;5;129;01mor\u001b[39;00m \u001b[38;5;28mself\u001b[39m\u001b[38;5;241m.\u001b[39m_forward_hooks \u001b[38;5;129;01mor\u001b[39;00m \u001b[38;5;28mself\u001b[39m\u001b[38;5;241m.\u001b[39m_forward_pre_hooks\n\u001b[1;32m   1499\u001b[0m         \u001b[38;5;129;01mor\u001b[39;00m _global_backward_pre_hooks \u001b[38;5;129;01mor\u001b[39;00m _global_backward_hooks\n\u001b[1;32m   1500\u001b[0m         \u001b[38;5;129;01mor\u001b[39;00m _global_forward_hooks \u001b[38;5;129;01mor\u001b[39;00m _global_forward_pre_hooks):\n\u001b[0;32m-> 1501\u001b[0m     \u001b[38;5;28;01mreturn\u001b[39;00m \u001b[43mforward_call\u001b[49m\u001b[43m(\u001b[49m\u001b[38;5;241;43m*\u001b[39;49m\u001b[43margs\u001b[49m\u001b[43m,\u001b[49m\u001b[43m \u001b[49m\u001b[38;5;241;43m*\u001b[39;49m\u001b[38;5;241;43m*\u001b[39;49m\u001b[43mkwargs\u001b[49m\u001b[43m)\u001b[49m\n\u001b[1;32m   1502\u001b[0m \u001b[38;5;66;03m# Do not call functions when jit is used\u001b[39;00m\n\u001b[1;32m   1503\u001b[0m full_backward_hooks, non_full_backward_hooks \u001b[38;5;241m=\u001b[39m [], []\n",
      "File \u001b[0;32m~/Documents/ETH/GeneticFitness/.venv/lib/python3.11/site-packages/torch/nn/modules/linear.py:114\u001b[0m, in \u001b[0;36mLinear.forward\u001b[0;34m(self, input)\u001b[0m\n\u001b[1;32m    113\u001b[0m \u001b[38;5;28;01mdef\u001b[39;00m \u001b[38;5;21mforward\u001b[39m(\u001b[38;5;28mself\u001b[39m, \u001b[38;5;28minput\u001b[39m: Tensor) \u001b[38;5;241m-\u001b[39m\u001b[38;5;241m>\u001b[39m Tensor:\n\u001b[0;32m--> 114\u001b[0m     \u001b[38;5;28;01mreturn\u001b[39;00m \u001b[43mF\u001b[49m\u001b[38;5;241;43m.\u001b[39;49m\u001b[43mlinear\u001b[49m\u001b[43m(\u001b[49m\u001b[38;5;28;43minput\u001b[39;49m\u001b[43m,\u001b[49m\u001b[43m \u001b[49m\u001b[38;5;28;43mself\u001b[39;49m\u001b[38;5;241;43m.\u001b[39;49m\u001b[43mweight\u001b[49m\u001b[43m,\u001b[49m\u001b[43m \u001b[49m\u001b[38;5;28;43mself\u001b[39;49m\u001b[38;5;241;43m.\u001b[39;49m\u001b[43mbias\u001b[49m\u001b[43m)\u001b[49m\n",
      "\u001b[0;31mRuntimeError\u001b[0m: Placeholder storage has not been allocated on MPS device!"
     ]
    }
   ],
   "source": [
    "linear_layer(x).shape"
   ]
  },
  {
   "cell_type": "code",
   "execution_count": 9,
   "id": "545b03c5-2b1b-4614-841e-6f60c10e74bb",
   "metadata": {},
   "outputs": [],
   "source": [
    "from src.modeling.cnn_vae import PredictionCNN\n",
    "from torch import optim"
   ]
  },
  {
   "cell_type": "code",
   "execution_count": 10,
   "id": "fc97c997",
   "metadata": {},
   "outputs": [],
   "source": [
    "model = PredictionCNN(\n",
    "    optimizer=optim.Adam,\n",
    ")"
   ]
  },
  {
   "cell_type": "code",
   "execution_count": 14,
   "id": "385fbec9",
   "metadata": {},
   "outputs": [
    {
     "name": "stderr",
     "output_type": "stream",
     "text": [
      "/Users/tobiaochsner/Documents/ETH/GeneticFitness/.venv/lib/python3.11/site-packages/lightning/pytorch/core/module.py:419: UserWarning: You are trying to `self.log()` but the `self.trainer` reference is not registered on the model yet. This is most likely because the model hasn't been passed to the `Trainer`\n",
      "  rank_zero_warn(\n"
     ]
    },
    {
     "data": {
      "text/plain": [
       "tensor(0.9044, grad_fn=<AddBackward0>)"
      ]
     },
     "execution_count": 14,
     "metadata": {},
     "output_type": "execute_result"
    }
   ],
   "source": [
    "model._get_loss(list(loader)[0])"
   ]
  },
  {
   "cell_type": "code",
   "execution_count": 139,
   "id": "18017cc0",
   "metadata": {},
   "outputs": [],
   "source": [
    "x, _ = list(loader)[0]"
   ]
  },
  {
   "cell_type": "code",
   "execution_count": 141,
   "id": "c7c79d9f",
   "metadata": {},
   "outputs": [],
   "source": [
    "loops = x[\"rna_loops\"]\n",
    "encoded_loops = [list(map({\"(\": 0, \".\": 1, \")\": 2}.get, loop)) for loop in loops]\n",
    "encoded_loops = IntTensor(encoded_loops)"
   ]
  },
  {
   "cell_type": "code",
   "execution_count": 142,
   "id": "ae068c47",
   "metadata": {},
   "outputs": [
    {
     "data": {
      "text/plain": [
       "tensor([[1, 1, 1,  ..., 2, 2, 2],\n",
       "        [1, 1, 1,  ..., 2, 2, 1],\n",
       "        [1, 1, 1,  ..., 2, 2, 2],\n",
       "        ...,\n",
       "        [1, 1, 1,  ..., 2, 1, 1],\n",
       "        [1, 1, 1,  ..., 1, 1, 1],\n",
       "        [1, 1, 1,  ..., 2, 2, 2]], dtype=torch.int32)"
      ]
     },
     "execution_count": 142,
     "metadata": {},
     "output_type": "execute_result"
    }
   ],
   "source": [
    "encoded_loops"
   ]
  },
  {
   "cell_type": "code",
   "execution_count": null,
   "id": "44a8fee2",
   "metadata": {},
   "outputs": [],
   "source": []
  }
 ],
 "metadata": {
  "kernelspec": {
   "display_name": "Python 3 (ipykernel)",
   "language": "python",
   "name": "python3"
  },
  "language_info": {
   "codemirror_mode": {
    "name": "ipython",
    "version": 3
   },
   "file_extension": ".py",
   "mimetype": "text/x-python",
   "name": "python",
   "nbconvert_exporter": "python",
   "pygments_lexer": "ipython3",
   "version": "3.11.5"
  }
 },
 "nbformat": 4,
 "nbformat_minor": 5
}
