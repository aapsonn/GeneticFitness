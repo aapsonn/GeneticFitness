{
 "cells": [
  {
   "cell_type": "code",
   "execution_count": 1,
   "metadata": {},
   "outputs": [],
   "source": [
    "from src.modeling.cnn_vae import CNN_VAE\n",
    "from src.data.df_dataset import DfDataset\n",
    "\n",
    "import torch.nn.functional as F\n",
    "\n",
    "from torch.optim import Adam\n",
    "from torch.utils.data import DataLoader\n",
    "import pandas as pd\n",
    "import numpy as np\n",
    "\n",
    "import matplotlib.pyplot as plt\n",
    "import seaborn as sns\n",
    "\n",
    "from src.data.factors"
   ]
  },
  {
   "cell_type": "code",
   "execution_count": 2,
   "metadata": {},
   "outputs": [],
   "source": [
    "model = CNN_VAE.load_from_checkpoint(  \n",
    "    \"/Users/tobiaochsner/Documents/ETH/GeneticFitness/data/models/cnn_vae_synonymous_batches/epoch=43-val_loss=0.34.ckpt\"\n",
    ")"
   ]
  },
  {
   "cell_type": "code",
   "execution_count": 27,
   "metadata": {},
   "outputs": [],
   "source": [
    "df = pd.read_csv(\"/Users/tobiaochsner/Documents/ETH/GeneticFitness/data/output_history/cnn_vae_synonymous_batches_2023_11_08_15_56_26/with_factors.csv\")\n",
    "correlation_df = pd.read_csv(\"/Users/tobiaochsner/Documents/ETH/GeneticFitness/data/output_history/cnn_vae_synonymous_batches_2023_11_08_15_56_26/correlation.csv\")\n",
    "dataset = DfDataset(df, [\"rna_loops\", \"sequence_dna\", \"mutated_wildtype_dna\"])"
   ]
  },
  {
   "cell_type": "code",
   "execution_count": 28,
   "metadata": {},
   "outputs": [],
   "source": [
    "from __future__ import print_function\n",
    "\n",
    "from collections import OrderedDict\n",
    "\n",
    "import cv2\n",
    "import numpy as np\n",
    "import torch\n",
    "import torch.nn as nn\n",
    "from torch.autograd import Variable\n",
    "from torch.nn import functional as F\n",
    "import os\n",
    "\n",
    "\n",
    "class GradCAM(nn.Module):\n",
    "\n",
    "    def __init__(self, model, target_layer):\n",
    "        super(GradCAM, self).__init__()\n",
    "\n",
    "        self.model = model\n",
    "        \n",
    "        self.model.eval()\n",
    "        self.target_layer = target_layer\n",
    "        self.outputs_backward = OrderedDict()\n",
    "        self.outputs_forward = OrderedDict()\n",
    "        self.set_hook_func()\n",
    "\n",
    "    def set_hook_func(self):\n",
    "        def func_b(module, grad_in, grad_out):\n",
    "            self.outputs_backward[id(module)] = next(x for x in grad_out if x is not None).cpu()\n",
    "\n",
    "        def func_f(module, input, f_output):\n",
    "            self.outputs_forward[id(module)] = f_output\n",
    "\n",
    "        for module in self.model.named_modules():\n",
    "            module[1].register_full_backward_hook(func_b)\n",
    "            module[1].register_forward_hook(func_f)\n",
    "\n",
    "    def forward(self, *input):\n",
    "        return self.model(*input)"
   ]
  },
  {
   "cell_type": "code",
   "execution_count": 29,
   "metadata": {},
   "outputs": [],
   "source": [
    "loader = DataLoader(dataset, batch_size=len(dataset))\n",
    "all_items = next(iter(loader))"
   ]
  },
  {
   "cell_type": "code",
   "execution_count": 30,
   "metadata": {},
   "outputs": [
    {
     "data": {
      "text/plain": [
       "CNN_VAE(\n",
       "  (embedding): Embedding(3, 32)\n",
       "  (encoder): Sequential(\n",
       "    (0): Conv1d(32, 32, kernel_size=(5,), stride=(1,))\n",
       "    (1): ReLU()\n",
       "    (2): Conv1d(32, 32, kernel_size=(5,), stride=(1,))\n",
       "    (3): ReLU()\n",
       "    (4): Conv1d(32, 32, kernel_size=(5,), stride=(1,))\n",
       "    (5): ReLU()\n",
       "    (6): Flatten(start_dim=1, end_dim=-1)\n",
       "    (7): Linear(in_features=3360, out_features=32, bias=True)\n",
       "    (8): ReLU()\n",
       "  )\n",
       "  (mu): Linear(in_features=32, out_features=5, bias=True)\n",
       "  (var): Linear(in_features=32, out_features=5, bias=True)\n",
       "  (decoder): Sequential(\n",
       "    (0): Linear(in_features=5, out_features=3360, bias=True)\n",
       "    (1): ReLU()\n",
       "    (2): Unflatten(dim=1, unflattened_size=(32, 105))\n",
       "    (3): ConvTranspose1d(32, 32, kernel_size=(5,), stride=(1,))\n",
       "    (4): ReLU()\n",
       "    (5): ConvTranspose1d(32, 32, kernel_size=(5,), stride=(1,))\n",
       "    (6): ReLU()\n",
       "    (7): ConvTranspose1d(32, 32, kernel_size=(5,), stride=(1,))\n",
       "  )\n",
       ")"
      ]
     },
     "execution_count": 30,
     "metadata": {},
     "output_type": "execute_result"
    }
   ],
   "source": [
    "model"
   ]
  },
  {
   "cell_type": "code",
   "execution_count": 31,
   "metadata": {},
   "outputs": [],
   "source": [
    "gradcam = GradCAM(model, target_layer=\"encoder.1\")"
   ]
  },
  {
   "cell_type": "code",
   "execution_count": 32,
   "metadata": {},
   "outputs": [],
   "source": [
    "gradcam.eval()\n",
    "input_embedding, output_embedding, mu, var = gradcam(all_items)\n",
    "\n",
    "target_attentions = []\n",
    "\n",
    "for i in [2, 3]:\n",
    "    gradcam.zero_grad()\n",
    "    score_i = torch.sum(mu[:, i])\n",
    "    score_i.backward(retain_graph=True)\n",
    "    \n",
    "    target_layer_id = id(dict(gradcam.model.named_modules())[gradcam.target_layer])\n",
    "    target_gradients = gradcam.outputs_backward[target_layer_id]\n",
    "\n",
    "    target_alpha = torch.mean(target_gradients, dim=2, keepdim=True)\n",
    "\n",
    "    target_activations = gradcam.outputs_forward[target_layer_id]\n",
    "\n",
    "    target_attention = target_alpha * target_activations\n",
    "    target_attention = torch.sum(target_attention, dim=1)\n",
    "    target_attention = F.relu(target_attention)\n",
    "\n",
    "    target_attentions.append(target_attention)\n",
    "\n",
    "target_attentions = torch.mean(torch.stack(target_attentions), dim=0)"
   ]
  },
  {
   "cell_type": "code",
   "execution_count": 33,
   "metadata": {},
   "outputs": [
    {
     "data": {
      "text/plain": [
       "torch.Size([4164, 32, 113])"
      ]
     },
     "execution_count": 33,
     "metadata": {},
     "output_type": "execute_result"
    }
   ],
   "source": [
    "target_activations.shape"
   ]
  },
  {
   "cell_type": "code",
   "execution_count": 34,
   "metadata": {},
   "outputs": [
    {
     "data": {
      "text/plain": [
       "<BarContainer object of 113 artists>"
      ]
     },
     "execution_count": 34,
     "metadata": {},
     "output_type": "execute_result"
    },
    {
     "data": {
      "image/png": "[encoded data removed]",
      "text/plain": [
       "<Figure size 640x480 with 1 Axes>"
      ]
     },
     "metadata": {},
     "output_type": "display_data"
    }
   ],
   "source": [
    "plt.bar(range(len(target_attentions[4])), target_attentions.mean(0).detach().numpy(), width=1)"
   ]
  }
 ],
 "metadata": {
  "kernelspec": {
   "display_name": "Python 3 (ipykernel)",
   "language": "python",
   "name": "python3"
  },
  "language_info": {
   "codemirror_mode": {
    "name": "ipython",
    "version": 3
   },
   "file_extension": ".py",
   "mimetype": "text/x-python",
   "name": "python",
   "nbconvert_exporter": "python",
   "pygments_lexer": "ipython3",
   "version": "3.11.5"
  }
 },
 "nbformat": 4,
 "nbformat_minor": 4
}
